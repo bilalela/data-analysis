{
 "cells": [
  {
   "cell_type": "code",
   "execution_count": 3,
   "metadata": {},
   "outputs": [],
   "source": [
    "import numpy as np \n",
    "import pandas as pd\n",
    "import matplotlib.pyplot as plt\n",
    "import seaborn as sns"
   ]
  },
  {
   "cell_type": "code",
   "execution_count": 4,
   "metadata": {},
   "outputs": [
    {
     "data": {
      "text/html": [
       "<div>\n",
       "<style scoped>\n",
       "    .dataframe tbody tr th:only-of-type {\n",
       "        vertical-align: middle;\n",
       "    }\n",
       "\n",
       "    .dataframe tbody tr th {\n",
       "        vertical-align: top;\n",
       "    }\n",
       "\n",
       "    .dataframe thead th {\n",
       "        text-align: right;\n",
       "    }\n",
       "</style>\n",
       "<table border=\"1\" class=\"dataframe\">\n",
       "  <thead>\n",
       "    <tr style=\"text-align: right;\">\n",
       "      <th></th>\n",
       "      <th>salary_id</th>\n",
       "      <th>employer_name</th>\n",
       "      <th>location_name</th>\n",
       "      <th>location_state</th>\n",
       "      <th>location_country</th>\n",
       "      <th>location_latitude</th>\n",
       "      <th>location_longitude</th>\n",
       "      <th>job_title</th>\n",
       "      <th>job_title_category</th>\n",
       "      <th>job_title_rank</th>\n",
       "      <th>total_experience_years</th>\n",
       "      <th>employer_experience_years</th>\n",
       "      <th>annual_base_pay</th>\n",
       "      <th>signing_bonus</th>\n",
       "      <th>annual_bonus</th>\n",
       "      <th>stock_value_bonus</th>\n",
       "      <th>comments</th>\n",
       "      <th>submitted_at</th>\n",
       "    </tr>\n",
       "  </thead>\n",
       "  <tbody>\n",
       "    <tr>\n",
       "      <th>0</th>\n",
       "      <td>1</td>\n",
       "      <td>opower</td>\n",
       "      <td>san francisco, ca</td>\n",
       "      <td>CA</td>\n",
       "      <td>US</td>\n",
       "      <td>37.77</td>\n",
       "      <td>-122.41</td>\n",
       "      <td>systems engineer</td>\n",
       "      <td>Engineering</td>\n",
       "      <td>NaN</td>\n",
       "      <td>13.0</td>\n",
       "      <td>2.0</td>\n",
       "      <td>125000.0</td>\n",
       "      <td>5000.0</td>\n",
       "      <td>0.0</td>\n",
       "      <td>5000 shares</td>\n",
       "      <td>Don't work here.</td>\n",
       "      <td>3/21/16 12:58</td>\n",
       "    </tr>\n",
       "    <tr>\n",
       "      <th>1</th>\n",
       "      <td>3</td>\n",
       "      <td>walmart</td>\n",
       "      <td>bentonville, ar</td>\n",
       "      <td>AR</td>\n",
       "      <td>US</td>\n",
       "      <td>36.36</td>\n",
       "      <td>-94.20</td>\n",
       "      <td>senior developer</td>\n",
       "      <td>Software</td>\n",
       "      <td>Senior</td>\n",
       "      <td>15.0</td>\n",
       "      <td>8.0</td>\n",
       "      <td>65000.0</td>\n",
       "      <td>NaN</td>\n",
       "      <td>5000.0</td>\n",
       "      <td>3,000</td>\n",
       "      <td>NaN</td>\n",
       "      <td>3/21/16 12:58</td>\n",
       "    </tr>\n",
       "    <tr>\n",
       "      <th>2</th>\n",
       "      <td>4</td>\n",
       "      <td>vertical knowledge</td>\n",
       "      <td>cleveland, oh</td>\n",
       "      <td>OH</td>\n",
       "      <td>US</td>\n",
       "      <td>41.47</td>\n",
       "      <td>-81.67</td>\n",
       "      <td>software engineer</td>\n",
       "      <td>Software</td>\n",
       "      <td>NaN</td>\n",
       "      <td>4.0</td>\n",
       "      <td>1.0</td>\n",
       "      <td>86000.0</td>\n",
       "      <td>5000.0</td>\n",
       "      <td>6000.0</td>\n",
       "      <td>0</td>\n",
       "      <td>NaN</td>\n",
       "      <td>3/21/16 12:59</td>\n",
       "    </tr>\n",
       "    <tr>\n",
       "      <th>3</th>\n",
       "      <td>6</td>\n",
       "      <td>netapp</td>\n",
       "      <td>waltham</td>\n",
       "      <td>NaN</td>\n",
       "      <td>NaN</td>\n",
       "      <td>NaN</td>\n",
       "      <td>NaN</td>\n",
       "      <td>mts</td>\n",
       "      <td>Other</td>\n",
       "      <td>NaN</td>\n",
       "      <td>4.0</td>\n",
       "      <td>0.0</td>\n",
       "      <td>105000.0</td>\n",
       "      <td>5000.0</td>\n",
       "      <td>8500.0</td>\n",
       "      <td>0</td>\n",
       "      <td>NaN</td>\n",
       "      <td>3/21/16 13:00</td>\n",
       "    </tr>\n",
       "    <tr>\n",
       "      <th>4</th>\n",
       "      <td>12</td>\n",
       "      <td>apple</td>\n",
       "      <td>cupertino</td>\n",
       "      <td>NaN</td>\n",
       "      <td>NaN</td>\n",
       "      <td>NaN</td>\n",
       "      <td>NaN</td>\n",
       "      <td>software engineer</td>\n",
       "      <td>Software</td>\n",
       "      <td>NaN</td>\n",
       "      <td>4.0</td>\n",
       "      <td>3.0</td>\n",
       "      <td>110000.0</td>\n",
       "      <td>5000.0</td>\n",
       "      <td>7000.0</td>\n",
       "      <td>150000</td>\n",
       "      <td>NaN</td>\n",
       "      <td>3/21/16 13:02</td>\n",
       "    </tr>\n",
       "  </tbody>\n",
       "</table>\n",
       "</div>"
      ],
      "text/plain": [
       "   salary_id       employer_name      location_name location_state  \\\n",
       "0          1              opower  san francisco, ca             CA   \n",
       "1          3             walmart    bentonville, ar             AR   \n",
       "2          4  vertical knowledge      cleveland, oh             OH   \n",
       "3          6              netapp            waltham            NaN   \n",
       "4         12               apple          cupertino            NaN   \n",
       "\n",
       "  location_country  location_latitude  location_longitude          job_title  \\\n",
       "0               US              37.77             -122.41   systems engineer   \n",
       "1               US              36.36              -94.20   senior developer   \n",
       "2               US              41.47              -81.67  software engineer   \n",
       "3              NaN                NaN                 NaN                mts   \n",
       "4              NaN                NaN                 NaN  software engineer   \n",
       "\n",
       "  job_title_category job_title_rank  total_experience_years  \\\n",
       "0        Engineering            NaN                    13.0   \n",
       "1           Software         Senior                    15.0   \n",
       "2           Software            NaN                     4.0   \n",
       "3              Other            NaN                     4.0   \n",
       "4           Software            NaN                     4.0   \n",
       "\n",
       "   employer_experience_years  annual_base_pay  signing_bonus  annual_bonus  \\\n",
       "0                        2.0         125000.0         5000.0           0.0   \n",
       "1                        8.0          65000.0            NaN        5000.0   \n",
       "2                        1.0          86000.0         5000.0        6000.0   \n",
       "3                        0.0         105000.0         5000.0        8500.0   \n",
       "4                        3.0         110000.0         5000.0        7000.0   \n",
       "\n",
       "  stock_value_bonus          comments   submitted_at  \n",
       "0       5000 shares  Don't work here.  3/21/16 12:58  \n",
       "1             3,000               NaN  3/21/16 12:58  \n",
       "2                 0               NaN  3/21/16 12:59  \n",
       "3                 0               NaN  3/21/16 13:00  \n",
       "4            150000               NaN  3/21/16 13:02  "
      ]
     },
     "execution_count": 4,
     "metadata": {},
     "output_type": "execute_result"
    }
   ],
   "source": [
    "df = pd.read_csv(\"salaries_clean.csv\",encoding=\"latin_1\")\n",
    "df.head()"
   ]
  },
  {
   "cell_type": "code",
   "execution_count": 5,
   "metadata": {},
   "outputs": [
    {
     "name": "stdout",
     "output_type": "stream",
     "text": [
      "<class 'pandas.core.frame.DataFrame'>\n",
      "RangeIndex: 1655 entries, 0 to 1654\n",
      "Data columns (total 18 columns):\n",
      " #   Column                     Non-Null Count  Dtype  \n",
      "---  ------                     --------------  -----  \n",
      " 0   salary_id                  1655 non-null   int64  \n",
      " 1   employer_name              1651 non-null   object \n",
      " 2   location_name              1655 non-null   object \n",
      " 3   location_state             558 non-null    object \n",
      " 4   location_country           792 non-null    object \n",
      " 5   location_latitude          792 non-null    float64\n",
      " 6   location_longitude         792 non-null    float64\n",
      " 7   job_title                  1655 non-null   object \n",
      " 8   job_title_category         1655 non-null   object \n",
      " 9   job_title_rank             425 non-null    object \n",
      " 10  total_experience_years     1608 non-null   float64\n",
      " 11  employer_experience_years  1608 non-null   float64\n",
      " 12  annual_base_pay            1651 non-null   float64\n",
      " 13  signing_bonus              1332 non-null   float64\n",
      " 14  annual_bonus               1336 non-null   float64\n",
      " 15  stock_value_bonus          1246 non-null   object \n",
      " 16  comments                   292 non-null    object \n",
      " 17  submitted_at               1655 non-null   object \n",
      "dtypes: float64(7), int64(1), object(10)\n",
      "memory usage: 232.9+ KB\n"
     ]
    }
   ],
   "source": [
    "df.info()"
   ]
  },
  {
   "cell_type": "code",
   "execution_count": 6,
   "metadata": {},
   "outputs": [
    {
     "data": {
      "text/html": [
       "<div>\n",
       "<style scoped>\n",
       "    .dataframe tbody tr th:only-of-type {\n",
       "        vertical-align: middle;\n",
       "    }\n",
       "\n",
       "    .dataframe tbody tr th {\n",
       "        vertical-align: top;\n",
       "    }\n",
       "\n",
       "    .dataframe thead th {\n",
       "        text-align: right;\n",
       "    }\n",
       "</style>\n",
       "<table border=\"1\" class=\"dataframe\">\n",
       "  <thead>\n",
       "    <tr style=\"text-align: right;\">\n",
       "      <th></th>\n",
       "      <th>salary_id</th>\n",
       "      <th>location_latitude</th>\n",
       "      <th>location_longitude</th>\n",
       "      <th>total_experience_years</th>\n",
       "      <th>employer_experience_years</th>\n",
       "      <th>annual_base_pay</th>\n",
       "      <th>signing_bonus</th>\n",
       "      <th>annual_bonus</th>\n",
       "    </tr>\n",
       "  </thead>\n",
       "  <tbody>\n",
       "    <tr>\n",
       "      <th>count</th>\n",
       "      <td>1655.000000</td>\n",
       "      <td>792.000000</td>\n",
       "      <td>792.000000</td>\n",
       "      <td>1608.000000</td>\n",
       "      <td>1608.000000</td>\n",
       "      <td>1.651000e+03</td>\n",
       "      <td>1.332000e+03</td>\n",
       "      <td>1.336000e+03</td>\n",
       "    </tr>\n",
       "    <tr>\n",
       "      <th>mean</th>\n",
       "      <td>1684.100906</td>\n",
       "      <td>37.754394</td>\n",
       "      <td>-64.712273</td>\n",
       "      <td>6.756113</td>\n",
       "      <td>2.656163</td>\n",
       "      <td>6.325004e+06</td>\n",
       "      <td>2.240563e+04</td>\n",
       "      <td>1.177552e+04</td>\n",
       "    </tr>\n",
       "    <tr>\n",
       "      <th>std</th>\n",
       "      <td>932.901390</td>\n",
       "      <td>16.740905</td>\n",
       "      <td>67.090364</td>\n",
       "      <td>5.687004</td>\n",
       "      <td>3.301834</td>\n",
       "      <td>2.461353e+08</td>\n",
       "      <td>3.097990e+05</td>\n",
       "      <td>6.921569e+04</td>\n",
       "    </tr>\n",
       "    <tr>\n",
       "      <th>min</th>\n",
       "      <td>1.000000</td>\n",
       "      <td>-41.000000</td>\n",
       "      <td>-123.270000</td>\n",
       "      <td>0.000000</td>\n",
       "      <td>0.000000</td>\n",
       "      <td>0.000000e+00</td>\n",
       "      <td>0.000000e+00</td>\n",
       "      <td>0.000000e+00</td>\n",
       "    </tr>\n",
       "    <tr>\n",
       "      <th>25%</th>\n",
       "      <td>897.000000</td>\n",
       "      <td>37.410000</td>\n",
       "      <td>-102.702500</td>\n",
       "      <td>3.000000</td>\n",
       "      <td>1.000000</td>\n",
       "      <td>6.100000e+04</td>\n",
       "      <td>0.000000e+00</td>\n",
       "      <td>0.000000e+00</td>\n",
       "    </tr>\n",
       "    <tr>\n",
       "      <th>50%</th>\n",
       "      <td>1711.000000</td>\n",
       "      <td>38.580000</td>\n",
       "      <td>-95.000000</td>\n",
       "      <td>5.000000</td>\n",
       "      <td>2.000000</td>\n",
       "      <td>9.948000e+04</td>\n",
       "      <td>0.000000e+00</td>\n",
       "      <td>5.000000e+02</td>\n",
       "    </tr>\n",
       "    <tr>\n",
       "      <th>75%</th>\n",
       "      <td>2477.000000</td>\n",
       "      <td>45.440000</td>\n",
       "      <td>-64.562500</td>\n",
       "      <td>10.000000</td>\n",
       "      <td>3.000000</td>\n",
       "      <td>1.300000e+05</td>\n",
       "      <td>5.000000e+03</td>\n",
       "      <td>1.000000e+04</td>\n",
       "    </tr>\n",
       "    <tr>\n",
       "      <th>max</th>\n",
       "      <td>3298.000000</td>\n",
       "      <td>65.000000</td>\n",
       "      <td>174.000000</td>\n",
       "      <td>56.000000</td>\n",
       "      <td>58.000000</td>\n",
       "      <td>1.000000e+10</td>\n",
       "      <td>8.999999e+06</td>\n",
       "      <td>2.000000e+06</td>\n",
       "    </tr>\n",
       "  </tbody>\n",
       "</table>\n",
       "</div>"
      ],
      "text/plain": [
       "         salary_id  location_latitude  location_longitude  \\\n",
       "count  1655.000000         792.000000          792.000000   \n",
       "mean   1684.100906          37.754394          -64.712273   \n",
       "std     932.901390          16.740905           67.090364   \n",
       "min       1.000000         -41.000000         -123.270000   \n",
       "25%     897.000000          37.410000         -102.702500   \n",
       "50%    1711.000000          38.580000          -95.000000   \n",
       "75%    2477.000000          45.440000          -64.562500   \n",
       "max    3298.000000          65.000000          174.000000   \n",
       "\n",
       "       total_experience_years  employer_experience_years  annual_base_pay  \\\n",
       "count             1608.000000                1608.000000     1.651000e+03   \n",
       "mean                 6.756113                   2.656163     6.325004e+06   \n",
       "std                  5.687004                   3.301834     2.461353e+08   \n",
       "min                  0.000000                   0.000000     0.000000e+00   \n",
       "25%                  3.000000                   1.000000     6.100000e+04   \n",
       "50%                  5.000000                   2.000000     9.948000e+04   \n",
       "75%                 10.000000                   3.000000     1.300000e+05   \n",
       "max                 56.000000                  58.000000     1.000000e+10   \n",
       "\n",
       "       signing_bonus  annual_bonus  \n",
       "count   1.332000e+03  1.336000e+03  \n",
       "mean    2.240563e+04  1.177552e+04  \n",
       "std     3.097990e+05  6.921569e+04  \n",
       "min     0.000000e+00  0.000000e+00  \n",
       "25%     0.000000e+00  0.000000e+00  \n",
       "50%     0.000000e+00  5.000000e+02  \n",
       "75%     5.000000e+03  1.000000e+04  \n",
       "max     8.999999e+06  2.000000e+06  "
      ]
     },
     "execution_count": 6,
     "metadata": {},
     "output_type": "execute_result"
    }
   ],
   "source": [
    "df.describe()"
   ]
  },
  {
   "cell_type": "code",
   "execution_count": 7,
   "metadata": {},
   "outputs": [
    {
     "data": {
      "text/plain": [
       "salary_id                       0\n",
       "employer_name                   4\n",
       "location_name                   0\n",
       "location_state               1097\n",
       "location_country              863\n",
       "location_latitude             863\n",
       "location_longitude            863\n",
       "job_title                       0\n",
       "job_title_category              0\n",
       "job_title_rank               1230\n",
       "total_experience_years         47\n",
       "employer_experience_years      47\n",
       "annual_base_pay                 4\n",
       "signing_bonus                 323\n",
       "annual_bonus                  319\n",
       "stock_value_bonus             409\n",
       "comments                     1363\n",
       "submitted_at                    0\n",
       "dtype: int64"
      ]
     },
     "execution_count": 7,
     "metadata": {},
     "output_type": "execute_result"
    }
   ],
   "source": [
    "df.isna().sum()"
   ]
  },
  {
   "cell_type": "code",
   "execution_count": 8,
   "metadata": {},
   "outputs": [
    {
     "data": {
      "text/plain": [
       "(1655, 18)"
      ]
     },
     "execution_count": 8,
     "metadata": {},
     "output_type": "execute_result"
    }
   ],
   "source": [
    "df.shape"
   ]
  },
  {
   "cell_type": "code",
   "execution_count": 9,
   "metadata": {},
   "outputs": [
    {
     "name": "stdout",
     "output_type": "stream",
     "text": [
      "Empty values % 24.947969117153406\n"
     ]
    }
   ],
   "source": [
    "print(\"Empty values %\", round(df.isnull().sum().sum()) / (len(df) *len(df.columns))*100)"
   ]
  },
  {
   "cell_type": "code",
   "execution_count": 10,
   "metadata": {},
   "outputs": [
    {
     "data": {
      "text/plain": [
       "<Axes: >"
      ]
     },
     "execution_count": 10,
     "metadata": {},
     "output_type": "execute_result"
    },
    {
     "data": {
      "image/png": "[encoded data removed]",
      "text/plain": [
       "<Figure size 640x480 with 2 Axes>"
      ]
     },
     "metadata": {},
     "output_type": "display_data"
    }
   ],
   "source": [
    "sns.heatmap(df.corr(numeric_only=True),annot=True)"
   ]
  },
  {
   "cell_type": "code",
   "execution_count": 11,
   "metadata": {},
   "outputs": [
    {
     "data": {
      "text/plain": [
       "Index(['salary_id', 'employer_name', 'location_name', 'location_state',\n",
       "       'location_country', 'location_latitude', 'location_longitude',\n",
       "       'job_title', 'job_title_category', 'job_title_rank',\n",
       "       'total_experience_years', 'employer_experience_years',\n",
       "       'annual_base_pay', 'signing_bonus', 'annual_bonus', 'stock_value_bonus',\n",
       "       'comments', 'submitted_at'],\n",
       "      dtype='object')"
      ]
     },
     "execution_count": 11,
     "metadata": {},
     "output_type": "execute_result"
    }
   ],
   "source": [
    "df.columns"
   ]
  },
  {
   "cell_type": "code",
   "execution_count": 12,
   "metadata": {},
   "outputs": [],
   "source": [
    "df=df.drop(['location_name','location_state',\n",
    "            'location_country','location_latitude','location_longitude',\n",
    "               'job_title_rank','comments','submitted_at','stock_value_bonus'], axis=1)"
   ]
  },
  {
   "cell_type": "code",
   "execution_count": 13,
   "metadata": {},
   "outputs": [
    {
     "data": {
      "text/html": [
       "<div>\n",
       "<style scoped>\n",
       "    .dataframe tbody tr th:only-of-type {\n",
       "        vertical-align: middle;\n",
       "    }\n",
       "\n",
       "    .dataframe tbody tr th {\n",
       "        vertical-align: top;\n",
       "    }\n",
       "\n",
       "    .dataframe thead th {\n",
       "        text-align: right;\n",
       "    }\n",
       "</style>\n",
       "<table border=\"1\" class=\"dataframe\">\n",
       "  <thead>\n",
       "    <tr style=\"text-align: right;\">\n",
       "      <th></th>\n",
       "      <th>salary_id</th>\n",
       "      <th>employer_name</th>\n",
       "      <th>job_title</th>\n",
       "      <th>job_title_category</th>\n",
       "      <th>total_experience_years</th>\n",
       "      <th>employer_experience_years</th>\n",
       "      <th>annual_base_pay</th>\n",
       "      <th>signing_bonus</th>\n",
       "      <th>annual_bonus</th>\n",
       "    </tr>\n",
       "  </thead>\n",
       "  <tbody>\n",
       "    <tr>\n",
       "      <th>0</th>\n",
       "      <td>1</td>\n",
       "      <td>opower</td>\n",
       "      <td>systems engineer</td>\n",
       "      <td>Engineering</td>\n",
       "      <td>13.0</td>\n",
       "      <td>2.0</td>\n",
       "      <td>125000.0</td>\n",
       "      <td>5000.0</td>\n",
       "      <td>0.0</td>\n",
       "    </tr>\n",
       "    <tr>\n",
       "      <th>1</th>\n",
       "      <td>3</td>\n",
       "      <td>walmart</td>\n",
       "      <td>senior developer</td>\n",
       "      <td>Software</td>\n",
       "      <td>15.0</td>\n",
       "      <td>8.0</td>\n",
       "      <td>65000.0</td>\n",
       "      <td>NaN</td>\n",
       "      <td>5000.0</td>\n",
       "    </tr>\n",
       "    <tr>\n",
       "      <th>2</th>\n",
       "      <td>4</td>\n",
       "      <td>vertical knowledge</td>\n",
       "      <td>software engineer</td>\n",
       "      <td>Software</td>\n",
       "      <td>4.0</td>\n",
       "      <td>1.0</td>\n",
       "      <td>86000.0</td>\n",
       "      <td>5000.0</td>\n",
       "      <td>6000.0</td>\n",
       "    </tr>\n",
       "    <tr>\n",
       "      <th>3</th>\n",
       "      <td>6</td>\n",
       "      <td>netapp</td>\n",
       "      <td>mts</td>\n",
       "      <td>Other</td>\n",
       "      <td>4.0</td>\n",
       "      <td>0.0</td>\n",
       "      <td>105000.0</td>\n",
       "      <td>5000.0</td>\n",
       "      <td>8500.0</td>\n",
       "    </tr>\n",
       "    <tr>\n",
       "      <th>4</th>\n",
       "      <td>12</td>\n",
       "      <td>apple</td>\n",
       "      <td>software engineer</td>\n",
       "      <td>Software</td>\n",
       "      <td>4.0</td>\n",
       "      <td>3.0</td>\n",
       "      <td>110000.0</td>\n",
       "      <td>5000.0</td>\n",
       "      <td>7000.0</td>\n",
       "    </tr>\n",
       "  </tbody>\n",
       "</table>\n",
       "</div>"
      ],
      "text/plain": [
       "   salary_id       employer_name          job_title job_title_category  \\\n",
       "0          1              opower   systems engineer        Engineering   \n",
       "1          3             walmart   senior developer           Software   \n",
       "2          4  vertical knowledge  software engineer           Software   \n",
       "3          6              netapp                mts              Other   \n",
       "4         12               apple  software engineer           Software   \n",
       "\n",
       "   total_experience_years  employer_experience_years  annual_base_pay  \\\n",
       "0                    13.0                        2.0         125000.0   \n",
       "1                    15.0                        8.0          65000.0   \n",
       "2                     4.0                        1.0          86000.0   \n",
       "3                     4.0                        0.0         105000.0   \n",
       "4                     4.0                        3.0         110000.0   \n",
       "\n",
       "   signing_bonus  annual_bonus  \n",
       "0         5000.0           0.0  \n",
       "1            NaN        5000.0  \n",
       "2         5000.0        6000.0  \n",
       "3         5000.0        8500.0  \n",
       "4         5000.0        7000.0  "
      ]
     },
     "execution_count": 13,
     "metadata": {},
     "output_type": "execute_result"
    }
   ],
   "source": [
    "df.head()"
   ]
  },
  {
   "cell_type": "code",
   "execution_count": 14,
   "metadata": {},
   "outputs": [
    {
     "data": {
      "text/plain": [
       "Index(['salary_id', 'employer_name', 'job_title', 'job_title_category',\n",
       "       'total_experience_years', 'employer_experience_years',\n",
       "       'annual_base_pay', 'signing_bonus', 'annual_bonus'],\n",
       "      dtype='object')"
      ]
     },
     "execution_count": 14,
     "metadata": {},
     "output_type": "execute_result"
    }
   ],
   "source": [
    "df.columns"
   ]
  },
  {
   "cell_type": "code",
   "execution_count": 15,
   "metadata": {},
   "outputs": [],
   "source": [
    "df = df.dropna(subset=[\"employer_name\",\"annual_base_pay\"])"
   ]
  },
  {
   "cell_type": "code",
   "execution_count": 16,
   "metadata": {},
   "outputs": [
    {
     "data": {
      "text/plain": [
       "salary_id                      0\n",
       "employer_name                  0\n",
       "job_title                      0\n",
       "job_title_category             0\n",
       "total_experience_years        44\n",
       "employer_experience_years     44\n",
       "annual_base_pay                0\n",
       "signing_bonus                318\n",
       "annual_bonus                 314\n",
       "dtype: int64"
      ]
     },
     "execution_count": 16,
     "metadata": {},
     "output_type": "execute_result"
    }
   ],
   "source": [
    "df.isna().sum()"
   ]
  },
  {
   "cell_type": "code",
   "execution_count": 17,
   "metadata": {},
   "outputs": [],
   "source": [
    "df[[\"signing_bonus\",\"annual_bonus\"]] = df[[\"signing_bonus\",\"annual_bonus\"]].fillna(0)"
   ]
  },
  {
   "cell_type": "code",
   "execution_count": 22,
   "metadata": {},
   "outputs": [],
   "source": [
    "df[[\"total_experience_years\",\n",
    "    \"employer_experience_years\"]] = df[[\"total_experience_years\",\n",
    "                                    \"employer_experience_years\"]].fillna(round(df[[\"total_experience_years\",\n",
    "                                    \"employer_experience_years\"]].mean()))"
   ]
  },
  {
   "cell_type": "code",
   "execution_count": 23,
   "metadata": {},
   "outputs": [
    {
     "data": {
      "text/plain": [
       "salary_id                    0\n",
       "employer_name                0\n",
       "job_title                    0\n",
       "job_title_category           0\n",
       "total_experience_years       0\n",
       "employer_experience_years    0\n",
       "annual_base_pay              0\n",
       "signing_bonus                0\n",
       "annual_bonus                 0\n",
       "dtype: int64"
      ]
     },
     "execution_count": 23,
     "metadata": {},
     "output_type": "execute_result"
    }
   ],
   "source": [
    "df.isna().sum()"
   ]
  },
  {
   "cell_type": "code",
   "execution_count": null,
   "metadata": {},
   "outputs": [],
   "source": []
  },
  {
   "cell_type": "code",
   "execution_count": 24,
   "metadata": {},
   "outputs": [
    {
     "data": {
      "text/plain": [
       "1143          0.0\n",
       "1361          0.0\n",
       "382           0.0\n",
       "18           24.0\n",
       "306          28.0\n",
       "          ...    \n",
       "1179    1200000.0\n",
       "639     1234555.0\n",
       "539     1250000.0\n",
       "1111    1400000.0\n",
       "1250    1500000.0\n",
       "Name: annual_base_pay, Length: 1635, dtype: float64"
      ]
     },
     "execution_count": 24,
     "metadata": {},
     "output_type": "execute_result"
    }
   ],
   "source": [
    "df[\"annual_base_pay\"].sort_values()"
   ]
  },
  {
   "cell_type": "code",
   "execution_count": 25,
   "metadata": {},
   "outputs": [
    {
     "data": {
      "text/html": [
       "<div>\n",
       "<style scoped>\n",
       "    .dataframe tbody tr th:only-of-type {\n",
       "        vertical-align: middle;\n",
       "    }\n",
       "\n",
       "    .dataframe tbody tr th {\n",
       "        vertical-align: top;\n",
       "    }\n",
       "\n",
       "    .dataframe thead th {\n",
       "        text-align: right;\n",
       "    }\n",
       "</style>\n",
       "<table border=\"1\" class=\"dataframe\">\n",
       "  <thead>\n",
       "    <tr style=\"text-align: right;\">\n",
       "      <th></th>\n",
       "      <th>salary_id</th>\n",
       "      <th>employer_name</th>\n",
       "      <th>job_title</th>\n",
       "      <th>job_title_category</th>\n",
       "      <th>total_experience_years</th>\n",
       "      <th>employer_experience_years</th>\n",
       "      <th>annual_base_pay</th>\n",
       "      <th>signing_bonus</th>\n",
       "      <th>annual_bonus</th>\n",
       "    </tr>\n",
       "  </thead>\n",
       "  <tbody>\n",
       "    <tr>\n",
       "      <th>0</th>\n",
       "      <td>1</td>\n",
       "      <td>opower</td>\n",
       "      <td>systems engineer</td>\n",
       "      <td>Engineering</td>\n",
       "      <td>13.0</td>\n",
       "      <td>2.0</td>\n",
       "      <td>125000.0</td>\n",
       "      <td>5000.0</td>\n",
       "      <td>0.0</td>\n",
       "    </tr>\n",
       "    <tr>\n",
       "      <th>1</th>\n",
       "      <td>3</td>\n",
       "      <td>walmart</td>\n",
       "      <td>senior developer</td>\n",
       "      <td>Software</td>\n",
       "      <td>15.0</td>\n",
       "      <td>8.0</td>\n",
       "      <td>65000.0</td>\n",
       "      <td>0.0</td>\n",
       "      <td>5000.0</td>\n",
       "    </tr>\n",
       "    <tr>\n",
       "      <th>2</th>\n",
       "      <td>4</td>\n",
       "      <td>vertical knowledge</td>\n",
       "      <td>software engineer</td>\n",
       "      <td>Software</td>\n",
       "      <td>4.0</td>\n",
       "      <td>1.0</td>\n",
       "      <td>86000.0</td>\n",
       "      <td>5000.0</td>\n",
       "      <td>6000.0</td>\n",
       "    </tr>\n",
       "    <tr>\n",
       "      <th>3</th>\n",
       "      <td>6</td>\n",
       "      <td>netapp</td>\n",
       "      <td>mts</td>\n",
       "      <td>Other</td>\n",
       "      <td>4.0</td>\n",
       "      <td>0.0</td>\n",
       "      <td>105000.0</td>\n",
       "      <td>5000.0</td>\n",
       "      <td>8500.0</td>\n",
       "    </tr>\n",
       "    <tr>\n",
       "      <th>4</th>\n",
       "      <td>12</td>\n",
       "      <td>apple</td>\n",
       "      <td>software engineer</td>\n",
       "      <td>Software</td>\n",
       "      <td>4.0</td>\n",
       "      <td>3.0</td>\n",
       "      <td>110000.0</td>\n",
       "      <td>5000.0</td>\n",
       "      <td>7000.0</td>\n",
       "    </tr>\n",
       "    <tr>\n",
       "      <th>...</th>\n",
       "      <td>...</td>\n",
       "      <td>...</td>\n",
       "      <td>...</td>\n",
       "      <td>...</td>\n",
       "      <td>...</td>\n",
       "      <td>...</td>\n",
       "      <td>...</td>\n",
       "      <td>...</td>\n",
       "      <td>...</td>\n",
       "    </tr>\n",
       "    <tr>\n",
       "      <th>1650</th>\n",
       "      <td>3289</td>\n",
       "      <td>sparkfun electronics</td>\n",
       "      <td>junior software developer</td>\n",
       "      <td>Software</td>\n",
       "      <td>1.0</td>\n",
       "      <td>0.5</td>\n",
       "      <td>60500.0</td>\n",
       "      <td>0.0</td>\n",
       "      <td>800.0</td>\n",
       "    </tr>\n",
       "    <tr>\n",
       "      <th>1651</th>\n",
       "      <td>3290</td>\n",
       "      <td>intel</td>\n",
       "      <td>staff software enginer</td>\n",
       "      <td>Software</td>\n",
       "      <td>6.0</td>\n",
       "      <td>4.0</td>\n",
       "      <td>164000.0</td>\n",
       "      <td>0.0</td>\n",
       "      <td>20000.0</td>\n",
       "    </tr>\n",
       "    <tr>\n",
       "      <th>1652</th>\n",
       "      <td>3293</td>\n",
       "      <td>$2bn valuation tech company</td>\n",
       "      <td>sr. frontend eng</td>\n",
       "      <td>Web</td>\n",
       "      <td>7.0</td>\n",
       "      <td>1.0</td>\n",
       "      <td>150000.0</td>\n",
       "      <td>0.0</td>\n",
       "      <td>0.0</td>\n",
       "    </tr>\n",
       "    <tr>\n",
       "      <th>1653</th>\n",
       "      <td>3294</td>\n",
       "      <td>of maryland</td>\n",
       "      <td>scientific programmer (faculty research assist...</td>\n",
       "      <td>Applied Science</td>\n",
       "      <td>5.0</td>\n",
       "      <td>1.0</td>\n",
       "      <td>75000.0</td>\n",
       "      <td>0.0</td>\n",
       "      <td>0.0</td>\n",
       "    </tr>\n",
       "    <tr>\n",
       "      <th>1654</th>\n",
       "      <td>3298</td>\n",
       "      <td>linkedin</td>\n",
       "      <td>business analytics intern</td>\n",
       "      <td>Other</td>\n",
       "      <td>2.0</td>\n",
       "      <td>0.0</td>\n",
       "      <td>50.0</td>\n",
       "      <td>0.0</td>\n",
       "      <td>0.0</td>\n",
       "    </tr>\n",
       "  </tbody>\n",
       "</table>\n",
       "<p>1635 rows × 9 columns</p>\n",
       "</div>"
      ],
      "text/plain": [
       "      salary_id                employer_name  \\\n",
       "0             1                       opower   \n",
       "1             3                      walmart   \n",
       "2             4           vertical knowledge   \n",
       "3             6                       netapp   \n",
       "4            12                        apple   \n",
       "...         ...                          ...   \n",
       "1650       3289         sparkfun electronics   \n",
       "1651       3290                        intel   \n",
       "1652       3293  $2bn valuation tech company   \n",
       "1653       3294                  of maryland   \n",
       "1654       3298                     linkedin   \n",
       "\n",
       "                                              job_title job_title_category  \\\n",
       "0                                      systems engineer        Engineering   \n",
       "1                                      senior developer           Software   \n",
       "2                                     software engineer           Software   \n",
       "3                                                   mts              Other   \n",
       "4                                     software engineer           Software   \n",
       "...                                                 ...                ...   \n",
       "1650                          junior software developer           Software   \n",
       "1651                             staff software enginer           Software   \n",
       "1652                                   sr. frontend eng                Web   \n",
       "1653  scientific programmer (faculty research assist...    Applied Science   \n",
       "1654                          business analytics intern              Other   \n",
       "\n",
       "      total_experience_years  employer_experience_years  annual_base_pay  \\\n",
       "0                       13.0                        2.0         125000.0   \n",
       "1                       15.0                        8.0          65000.0   \n",
       "2                        4.0                        1.0          86000.0   \n",
       "3                        4.0                        0.0         105000.0   \n",
       "4                        4.0                        3.0         110000.0   \n",
       "...                      ...                        ...              ...   \n",
       "1650                     1.0                        0.5          60500.0   \n",
       "1651                     6.0                        4.0         164000.0   \n",
       "1652                     7.0                        1.0         150000.0   \n",
       "1653                     5.0                        1.0          75000.0   \n",
       "1654                     2.0                        0.0             50.0   \n",
       "\n",
       "      signing_bonus  annual_bonus  \n",
       "0            5000.0           0.0  \n",
       "1               0.0        5000.0  \n",
       "2            5000.0        6000.0  \n",
       "3            5000.0        8500.0  \n",
       "4            5000.0        7000.0  \n",
       "...             ...           ...  \n",
       "1650            0.0         800.0  \n",
       "1651            0.0       20000.0  \n",
       "1652            0.0           0.0  \n",
       "1653            0.0           0.0  \n",
       "1654            0.0           0.0  \n",
       "\n",
       "[1635 rows x 9 columns]"
      ]
     },
     "execution_count": 25,
     "metadata": {},
     "output_type": "execute_result"
    }
   ],
   "source": [
    "df = df[(df[\"annual_base_pay\"] < 2000000)]\n",
    "df"
   ]
  },
  {
   "cell_type": "code",
   "execution_count": 27,
   "metadata": {},
   "outputs": [],
   "source": [
    "df.rename(columns={\n",
    "        \"employer_name\" : \"company\",\n",
    "        \"job_title\" : \"title\",\n",
    "        \"job_title_category\" : \"catagory\",\n",
    "        \"total_experience_years\": \"total_exp\",\n",
    "        \"employer_experience_years\" : \"local_exp\",\n",
    "        \"annual_base_pay\" : \"salary\"\n",
    "        \n",
    "\n",
    "}, inplace= True)"
   ]
  },
  {
   "cell_type": "code",
   "execution_count": 34,
   "metadata": {},
   "outputs": [
    {
     "data": {
      "text/html": [
       "<div>\n",
       "<style scoped>\n",
       "    .dataframe tbody tr th:only-of-type {\n",
       "        vertical-align: middle;\n",
       "    }\n",
       "\n",
       "    .dataframe tbody tr th {\n",
       "        vertical-align: top;\n",
       "    }\n",
       "\n",
       "    .dataframe thead th {\n",
       "        text-align: right;\n",
       "    }\n",
       "</style>\n",
       "<table border=\"1\" class=\"dataframe\">\n",
       "  <thead>\n",
       "    <tr style=\"text-align: right;\">\n",
       "      <th></th>\n",
       "      <th>salary_id</th>\n",
       "      <th>company</th>\n",
       "      <th>title</th>\n",
       "      <th>catagory</th>\n",
       "      <th>total_exp</th>\n",
       "      <th>local_exp</th>\n",
       "      <th>salary</th>\n",
       "      <th>signing_bonus</th>\n",
       "      <th>annual_bonus</th>\n",
       "    </tr>\n",
       "  </thead>\n",
       "  <tbody>\n",
       "    <tr>\n",
       "      <th>1653</th>\n",
       "      <td>3294</td>\n",
       "      <td>of maryland</td>\n",
       "      <td>scientific programmer (faculty research assist...</td>\n",
       "      <td>Applied Science</td>\n",
       "      <td>5.0</td>\n",
       "      <td>1.0</td>\n",
       "      <td>75000.0</td>\n",
       "      <td>0.0</td>\n",
       "      <td>0.0</td>\n",
       "    </tr>\n",
       "    <tr>\n",
       "      <th>1654</th>\n",
       "      <td>3298</td>\n",
       "      <td>linkedin</td>\n",
       "      <td>business analytics intern</td>\n",
       "      <td>Other</td>\n",
       "      <td>2.0</td>\n",
       "      <td>0.0</td>\n",
       "      <td>50.0</td>\n",
       "      <td>0.0</td>\n",
       "      <td>0.0</td>\n",
       "    </tr>\n",
       "  </tbody>\n",
       "</table>\n",
       "</div>"
      ],
      "text/plain": [
       "      salary_id      company  \\\n",
       "1653       3294  of maryland   \n",
       "1654       3298     linkedin   \n",
       "\n",
       "                                                  title         catagory  \\\n",
       "1653  scientific programmer (faculty research assist...  Applied Science   \n",
       "1654                          business analytics intern            Other   \n",
       "\n",
       "      total_exp  local_exp   salary  signing_bonus  annual_bonus  \n",
       "1653        5.0        1.0  75000.0            0.0           0.0  \n",
       "1654        2.0        0.0     50.0            0.0           0.0  "
      ]
     },
     "execution_count": 34,
     "metadata": {},
     "output_type": "execute_result"
    }
   ],
   "source": [
    "df.tail(2)"
   ]
  },
  {
   "cell_type": "code",
   "execution_count": 35,
   "metadata": {},
   "outputs": [
    {
     "data": {
      "text/plain": [
       "<Axes: xlabel='total_exp', ylabel='local_exp'>"
      ]
     },
     "execution_count": 35,
     "metadata": {},
     "output_type": "execute_result"
    },
    {
     "data": {
      "image/png": "[encoded data removed]",
      "text/plain": [
       "<Figure size 640x480 with 1 Axes>"
      ]
     },
     "metadata": {},
     "output_type": "display_data"
    }
   ],
   "source": [
    "sns.scatterplot(data=df , x = \"total_exp\", y= \"local_exp\")"
   ]
  },
  {
   "cell_type": "code",
   "execution_count": 39,
   "metadata": {},
   "outputs": [
    {
     "data": {
      "text/plain": [
       "<bound method Series.idxmax of 0       2.0\n",
       "1       8.0\n",
       "2       1.0\n",
       "3       0.0\n",
       "4       3.0\n",
       "       ... \n",
       "1650    0.5\n",
       "1651    4.0\n",
       "1652    1.0\n",
       "1653    1.0\n",
       "1654    0.0\n",
       "Name: local_exp, Length: 1635, dtype: float64>"
      ]
     },
     "execution_count": 39,
     "metadata": {},
     "output_type": "execute_result"
    }
   ],
   "source": [
    "df[\"local_exp\"].idxmax"
   ]
  },
  {
   "cell_type": "code",
   "execution_count": 40,
   "metadata": {},
   "outputs": [
    {
     "data": {
      "text/html": [
       "<div>\n",
       "<style scoped>\n",
       "    .dataframe tbody tr th:only-of-type {\n",
       "        vertical-align: middle;\n",
       "    }\n",
       "\n",
       "    .dataframe tbody tr th {\n",
       "        vertical-align: top;\n",
       "    }\n",
       "\n",
       "    .dataframe thead th {\n",
       "        text-align: right;\n",
       "    }\n",
       "</style>\n",
       "<table border=\"1\" class=\"dataframe\">\n",
       "  <thead>\n",
       "    <tr style=\"text-align: right;\">\n",
       "      <th></th>\n",
       "      <th>salary_id</th>\n",
       "      <th>company</th>\n",
       "      <th>title</th>\n",
       "      <th>catagory</th>\n",
       "      <th>total_exp</th>\n",
       "      <th>local_exp</th>\n",
       "      <th>salary</th>\n",
       "      <th>signing_bonus</th>\n",
       "      <th>annual_bonus</th>\n",
       "    </tr>\n",
       "  </thead>\n",
       "  <tbody>\n",
       "    <tr>\n",
       "      <th>1596</th>\n",
       "      <td>3181</td>\n",
       "      <td>tom</td>\n",
       "      <td>tom</td>\n",
       "      <td>Other</td>\n",
       "      <td>25.0</td>\n",
       "      <td>58.0</td>\n",
       "      <td>250000.0</td>\n",
       "      <td>250478.0</td>\n",
       "      <td>150000.0</td>\n",
       "    </tr>\n",
       "  </tbody>\n",
       "</table>\n",
       "</div>"
      ],
      "text/plain": [
       "      salary_id company title catagory  total_exp  local_exp    salary  \\\n",
       "1596       3181     tom   tom    Other       25.0       58.0  250000.0   \n",
       "\n",
       "      signing_bonus  annual_bonus  \n",
       "1596       250478.0      150000.0  "
      ]
     },
     "execution_count": 40,
     "metadata": {},
     "output_type": "execute_result"
    }
   ],
   "source": [
    "df.loc[1596:1596]"
   ]
  },
  {
   "cell_type": "code",
   "execution_count": 42,
   "metadata": {},
   "outputs": [
    {
     "data": {
      "text/html": [
       "<div>\n",
       "<style scoped>\n",
       "    .dataframe tbody tr th:only-of-type {\n",
       "        vertical-align: middle;\n",
       "    }\n",
       "\n",
       "    .dataframe tbody tr th {\n",
       "        vertical-align: top;\n",
       "    }\n",
       "\n",
       "    .dataframe thead th {\n",
       "        text-align: right;\n",
       "    }\n",
       "</style>\n",
       "<table border=\"1\" class=\"dataframe\">\n",
       "  <thead>\n",
       "    <tr style=\"text-align: right;\">\n",
       "      <th></th>\n",
       "      <th>salary_id</th>\n",
       "      <th>company</th>\n",
       "      <th>title</th>\n",
       "      <th>catagory</th>\n",
       "      <th>total_exp</th>\n",
       "      <th>local_exp</th>\n",
       "      <th>salary</th>\n",
       "      <th>signing_bonus</th>\n",
       "      <th>annual_bonus</th>\n",
       "    </tr>\n",
       "  </thead>\n",
       "  <tbody>\n",
       "    <tr>\n",
       "      <th>339</th>\n",
       "      <td>722</td>\n",
       "      <td>airbnb</td>\n",
       "      <td>software engineer</td>\n",
       "      <td>Software</td>\n",
       "      <td>0.0</td>\n",
       "      <td>1.0</td>\n",
       "      <td>110000.0</td>\n",
       "      <td>50000.0</td>\n",
       "      <td>0.0</td>\n",
       "    </tr>\n",
       "    <tr>\n",
       "      <th>347</th>\n",
       "      <td>737</td>\n",
       "      <td>microsoft</td>\n",
       "      <td>software engineer</td>\n",
       "      <td>Software</td>\n",
       "      <td>1.0</td>\n",
       "      <td>2.0</td>\n",
       "      <td>120000.0</td>\n",
       "      <td>200000.0</td>\n",
       "      <td>0.0</td>\n",
       "    </tr>\n",
       "    <tr>\n",
       "      <th>447</th>\n",
       "      <td>972</td>\n",
       "      <td>johns hopkins</td>\n",
       "      <td>phd student</td>\n",
       "      <td>Other</td>\n",
       "      <td>2.0</td>\n",
       "      <td>4.0</td>\n",
       "      <td>24000.0</td>\n",
       "      <td>0.0</td>\n",
       "      <td>0.0</td>\n",
       "    </tr>\n",
       "    <tr>\n",
       "      <th>605</th>\n",
       "      <td>1291</td>\n",
       "      <td>la michoacana</td>\n",
       "      <td>servidor de aguas</td>\n",
       "      <td>Other</td>\n",
       "      <td>3.0</td>\n",
       "      <td>7.0</td>\n",
       "      <td>48000.0</td>\n",
       "      <td>0.0</td>\n",
       "      <td>0.0</td>\n",
       "    </tr>\n",
       "  </tbody>\n",
       "</table>\n",
       "</div>"
      ],
      "text/plain": [
       "     salary_id        company              title  catagory  total_exp  \\\n",
       "339        722         airbnb  software engineer  Software        0.0   \n",
       "347        737      microsoft  software engineer  Software        1.0   \n",
       "447        972  johns hopkins        phd student     Other        2.0   \n",
       "605       1291  la michoacana  servidor de aguas     Other        3.0   \n",
       "\n",
       "     local_exp    salary  signing_bonus  annual_bonus  \n",
       "339        1.0  110000.0        50000.0           0.0  \n",
       "347        2.0  120000.0       200000.0           0.0  \n",
       "447        4.0   24000.0            0.0           0.0  \n",
       "605        7.0   48000.0            0.0           0.0  "
      ]
     },
     "execution_count": 42,
     "metadata": {},
     "output_type": "execute_result"
    }
   ],
   "source": [
    "df[df[\"local_exp\"] > df[\"total_exp\"]].iloc[8:12]"
   ]
  },
  {
   "cell_type": "code",
   "execution_count": 43,
   "metadata": {},
   "outputs": [],
   "source": [
    "df = df[(df[\"local_exp\"] -1 ) < df[\"total_exp\"]]"
   ]
  },
  {
   "cell_type": "code",
   "execution_count": 44,
   "metadata": {},
   "outputs": [
    {
     "data": {
      "text/plain": [
       "<Axes: xlabel='total_exp', ylabel='local_exp'>"
      ]
     },
     "execution_count": 44,
     "metadata": {},
     "output_type": "execute_result"
    },
    {
     "data": {
      "image/png": "[encoded data removed]",
      "text/plain": [
       "<Figure size 640x480 with 1 Axes>"
      ]
     },
     "metadata": {},
     "output_type": "display_data"
    }
   ],
   "source": [
    "sns.scatterplot(data= df  , x = \"total_exp\" , y = \"local_exp\")"
   ]
  },
  {
   "cell_type": "code",
   "execution_count": 46,
   "metadata": {},
   "outputs": [
    {
     "data": {
      "image/png": "[encoded data removed]",
      "text/plain": [
       "<Figure size 640x480 with 1 Axes>"
      ]
     },
     "metadata": {},
     "output_type": "display_data"
    }
   ],
   "source": [
    "sns.histplot(data = df ,x= \"salary\")\n",
    "plt.xscale(\"log\")"
   ]
  },
  {
   "cell_type": "code",
   "execution_count": null,
   "metadata": {},
   "outputs": [],
   "source": []
  },
  {
   "cell_type": "code",
   "execution_count": null,
   "metadata": {},
   "outputs": [],
   "source": []
  },
  {
   "cell_type": "code",
   "execution_count": null,
   "metadata": {},
   "outputs": [],
   "source": []
  },
  {
   "cell_type": "code",
   "execution_count": null,
   "metadata": {},
   "outputs": [],
   "source": []
  }
 ],
 "metadata": {
  "kernelspec": {
   "display_name": "Python 3",
   "language": "python",
   "name": "python3"
  },
  "language_info": {
   "codemirror_mode": {
    "name": "ipython",
    "version": 3
   },
   "file_extension": ".py",
   "mimetype": "text/x-python",
   "name": "python",
   "nbconvert_exporter": "python",
   "pygments_lexer": "ipython3",
   "version": "3.13.2"
  }
 },
 "nbformat": 4,
 "nbformat_minor": 2
}
